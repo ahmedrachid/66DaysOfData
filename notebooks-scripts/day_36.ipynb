{
  "nbformat": 4,
  "nbformat_minor": 0,
  "metadata": {
    "colab": {
      "name": "SentimentAnalysisStockPriceipynb",
      "provenance": [],
      "collapsed_sections": [
        "uw6432ylwlfY"
      ],
      "authorship_tag": "ABX9TyMrZpi+qrBDABTeuCJiz10w",
      "include_colab_link": true
    },
    "kernelspec": {
      "name": "python3",
      "display_name": "Python 3"
    },
    "language_info": {
      "name": "python"
    }
  },
  "cells": [
    {
      "cell_type": "markdown",
      "metadata": {
        "id": "view-in-github",
        "colab_type": "text"
      },
      "source": [
        "<a href=\"https://colab.research.google.com/github/francescodisalvo05/66DaysOfData/blob/main/notebooks-scripts/day_36.ipynb\" target=\"_parent\"><img src=\"https://colab.research.google.com/assets/colab-badge.svg\" alt=\"Open In Colab\"/></a>"
      ]
    },
    {
      "cell_type": "code",
      "metadata": {
        "id": "f58Zia-9vya-"
      },
      "source": [
        "# !pip install flair\n",
        "# !pip install vaderSentiment\n",
        "# !pip install yfinance"
      ],
      "execution_count": 12,
      "outputs": []
    },
    {
      "cell_type": "code",
      "metadata": {
        "colab": {
          "base_uri": "https://localhost:8080/"
        },
        "id": "-9KhE5nTLtfT",
        "outputId": "476428f5-5a62-41f7-f567-24a965f72efb"
      },
      "source": [
        "import flair\n",
        "import json\n",
        "\n",
        "import pandas as pd\n",
        "import re\n",
        "\n",
        "from datetime import datetime, timedelta\n",
        "import requests\n",
        "import pandas as pd\n",
        "\n",
        "from vaderSentiment.vaderSentiment import SentimentIntensityAnalyzer\n",
        "from textblob import TextBlob\n",
        "\n",
        "import nltk\n",
        "nltk.download('punkt')\n",
        "nltk.download('averaged_perceptron_tagger')\n",
        "nltk.download('brown')"
      ],
      "execution_count": 35,
      "outputs": [
        {
          "output_type": "stream",
          "text": [
            "[nltk_data] Downloading package punkt to /root/nltk_data...\n",
            "[nltk_data]   Package punkt is already up-to-date!\n",
            "[nltk_data] Downloading package averaged_perceptron_tagger to\n",
            "[nltk_data]     /root/nltk_data...\n",
            "[nltk_data]   Package averaged_perceptron_tagger is already up-to-\n",
            "[nltk_data]       date!\n",
            "[nltk_data] Downloading package brown to /root/nltk_data...\n",
            "[nltk_data]   Unzipping corpora/brown.zip.\n"
          ],
          "name": "stdout"
        },
        {
          "output_type": "execute_result",
          "data": {
            "text/plain": [
              "True"
            ]
          },
          "metadata": {
            "tags": []
          },
          "execution_count": 35
        }
      ]
    },
    {
      "cell_type": "markdown",
      "metadata": {
        "id": "K2FfkYP5Xcj2"
      },
      "source": [
        "## Get Tweets"
      ]
    },
    {
      "cell_type": "code",
      "metadata": {
        "id": "kWPF3xmGXbyB"
      },
      "source": [
        "# https://towardsdatascience.com/sentiment-analysis-for-stock-price-prediction-in-python-bed40c65d178\n",
        "\n",
        "# read bearer token for authentication\n",
        "f = open(\"../dataset/barrer-token.txt\", \"r\")\n",
        "BEARER_TOKEN = f.read()\n",
        "\n",
        "# setup the API request\n",
        "endpoint = 'https://api.twitter.com/2/tweets/search/recent'\n",
        "headers = {'authorization': f'Bearer {BEARER_TOKEN}'}\n",
        "params = {\n",
        "    #'query': '(tesla OR tsla OR elon musk) (lang:en)',\n",
        "    'query': '(BTC OR btc OR bitcoin OR Bitcoin) (lang:en)',\n",
        "    'max_results': '100',\n",
        "    'tweet.fields': 'created_at,lang'\n",
        "}\n",
        "\n",
        "dtformat = '%Y-%m-%dT%H:%M:%SZ'  # the date format string required by twitter\n",
        "\n",
        "def get_data(tweet):\n",
        "    data = {\n",
        "        'created_at': tweet['created_at'],\n",
        "        'text': tweet['text']\n",
        "    }\n",
        "    return data\n",
        "\n",
        "# we use this function to subtract 60 mins from our datetime string\n",
        "def time_travel(now, mins):\n",
        "    now = datetime.strptime(now, dtformat)\n",
        "    back_in_time = now - timedelta(minutes=mins)\n",
        "    return back_in_time.strftime(dtformat)\n",
        "    \n",
        "now = datetime.now()  # get the current datetime, this is our starting point\n",
        "last_week = now - timedelta(days=6)  # datetime one week ago = the finish line\n",
        "now = now.strftime(dtformat)  # convert now datetime to format for API\n",
        "\n",
        "df = pd.DataFrame()  # initialize dataframe to store tweets\n",
        "\n",
        "while True:\n",
        "    \n",
        "    if datetime.strptime(now, dtformat) < last_week:\n",
        "        # if we have reached 7 days ago, break the loop\n",
        "        break\n",
        "        \n",
        "    pre60 = time_travel(now, 230) \n",
        "    now = time_travel(now, 180)\n",
        "    \n",
        "    params['start_time'] = pre60\n",
        "    params['end_time'] = now\n",
        "    \n",
        "    response = requests.get(endpoint,\n",
        "                            params=params,\n",
        "                            headers=headers) \n",
        "    now = pre60  \n",
        "    \n",
        "    for tweet in response.json()['data']:\n",
        "\n",
        "        row = get_data(tweet)  \n",
        "        df = df.append(row, ignore_index=True)\n",
        "\n",
        "df.to_csv('BTC.csv')"
      ],
      "execution_count": 26,
      "outputs": []
    },
    {
      "cell_type": "code",
      "metadata": {
        "id": "9nFg_9hlakSf"
      },
      "source": [
        "df = pd.read_csv('BTC.csv')"
      ],
      "execution_count": 27,
      "outputs": []
    },
    {
      "cell_type": "markdown",
      "metadata": {
        "id": "uw6432ylwlfY"
      },
      "source": [
        "## Clean text"
      ]
    },
    {
      "cell_type": "code",
      "metadata": {
        "id": "tCLoVON9N784"
      },
      "source": [
        "def clean_text(text):\n",
        "    \"\"\"\n",
        "    :param text: initial dirty tweet\n",
        "    :return: cleaned tweet\n",
        "    \n",
        "    remove hashtag, remove tags, remove links,\n",
        "    remove \"RT\" (retweet), substitute the \"_\" with a blank space\n",
        "    \"\"\"\n",
        "    t = re.sub(r\"#\", \"\", text)\n",
        "    t = re.sub(r\"@[A-z]{1,}\", \"\", t)\n",
        "    t = re.sub(r\"(https?:\\/\\/)?([\\da-z\\.-]+)\\.([a-z\\.]{2,6})([\\/\\w \\.-]*)\", \"\", t)\n",
        "    t = re.sub(r\"RT\", \"\", t)\n",
        "    t = re.sub(r\"_\", \" \", t)\n",
        "    \n",
        "    return t\n",
        "\n",
        "df_cleaned = df.copy()\n",
        "df_cleaned['text'] = df_cleaned.text.apply(lambda x : clean_text(x))"
      ],
      "execution_count": 28,
      "outputs": []
    },
    {
      "cell_type": "markdown",
      "metadata": {
        "id": "rpHw0T_6wx6D"
      },
      "source": [
        "## Get sentiment"
      ]
    },
    {
      "cell_type": "code",
      "metadata": {
        "colab": {
          "base_uri": "https://localhost:8080/"
        },
        "id": "m3m1voK6NDem",
        "outputId": "a385061a-04e3-42e1-d15e-40d19cc7a3b9"
      },
      "source": [
        "# flair\n",
        "sentiment_model = flair.models.TextClassifier.load('en-sentiment')\n",
        "# vader\n",
        "analyzer = SentimentIntensityAnalyzer()\n",
        "\n",
        "def get_sentiment_flair(text):\n",
        "  sentence = flair.data.Sentence(text)\n",
        "  sentiment_model.predict(sentence)\n",
        "\n",
        "  # empty sentence\n",
        "  if len(sentence.labels) == 0:\n",
        "    return -1\n",
        "  else:\n",
        "    if sentence.labels[0].value == \"POSITIVE\":\n",
        "      return 1\n",
        "    elif sentence.labels[0].value == \"NEGATIVE\":\n",
        "      return 0\n",
        "\n",
        "def get_sentiment_vader(text):\n",
        "    compound = analyzer.polarity_scores(text)['compound']\n",
        "    if compound >= 0.3:\n",
        "        return 1\n",
        "    else: \n",
        "        return 0\n",
        "\n",
        "def get_sentiment_textblob(text):\n",
        "  polarity = TextBlob(text).sentiment.polarity    \n",
        "  if polarity >= 0.3:\n",
        "      return 1\n",
        "  else: \n",
        "      return 0\n",
        "\n",
        "# add probability and sentiment predictions to tweets dataframe\n",
        "df_cleaned['sentiment_flair'] = df_cleaned.text.apply(lambda x : get_sentiment_flair(x))\n",
        "df_cleaned['sentiment_vader'] = df_cleaned.text.apply(lambda x : get_sentiment_vader(x))\n",
        "df_cleaned['sentiment_blob'] = df_cleaned.text.apply(lambda x : get_sentiment_textblob(x))"
      ],
      "execution_count": 44,
      "outputs": [
        {
          "output_type": "stream",
          "text": [
            "2021-04-01 19:20:24,566 loading file /root/.flair/models/sentiment-en-mix-distillbert_4.pt\n"
          ],
          "name": "stdout"
        }
      ]
    },
    {
      "cell_type": "code",
      "metadata": {
        "colab": {
          "base_uri": "https://localhost:8080/",
          "height": 206
        },
        "id": "91LE7guz4WnY",
        "outputId": "4172a255-5e2e-4c37-bf25-7cedd520cffe"
      },
      "source": [
        "df_cleaned.head()"
      ],
      "execution_count": 45,
      "outputs": [
        {
          "output_type": "execute_result",
          "data": {
            "text/html": [
              "<div>\n",
              "<style scoped>\n",
              "    .dataframe tbody tr th:only-of-type {\n",
              "        vertical-align: middle;\n",
              "    }\n",
              "\n",
              "    .dataframe tbody tr th {\n",
              "        vertical-align: top;\n",
              "    }\n",
              "\n",
              "    .dataframe thead th {\n",
              "        text-align: right;\n",
              "    }\n",
              "</style>\n",
              "<table border=\"1\" class=\"dataframe\">\n",
              "  <thead>\n",
              "    <tr style=\"text-align: right;\">\n",
              "      <th></th>\n",
              "      <th>Unnamed: 0</th>\n",
              "      <th>created_at</th>\n",
              "      <th>text</th>\n",
              "      <th>sentiment_flair</th>\n",
              "      <th>sentiment_vader</th>\n",
              "      <th>sentiment_blob</th>\n",
              "    </tr>\n",
              "  </thead>\n",
              "  <tbody>\n",
              "    <tr>\n",
              "      <th>0</th>\n",
              "      <td>0</td>\n",
              "      <td>2021-04-01T14:09:24.000Z</td>\n",
              "      <td>His account must‘ve been hacked! bitcoin ToTh...</td>\n",
              "      <td>0</td>\n",
              "      <td>0</td>\n",
              "      <td>0</td>\n",
              "    </tr>\n",
              "    <tr>\n",
              "      <th>1</th>\n",
              "      <td>1</td>\n",
              "      <td>2021-04-01T14:09:24.000Z</td>\n",
              "      <td>: New Airdrop: RaifeidoDAO (RDAO)\\nReward: 20...</td>\n",
              "      <td>1</td>\n",
              "      <td>1</td>\n",
              "      <td>0</td>\n",
              "    </tr>\n",
              "    <tr>\n",
              "      <th>2</th>\n",
              "      <td>2</td>\n",
              "      <td>2021-04-01T14:09:24.000Z</td>\n",
              "      <td>: 1 Bitcoin vs 1kg of Gold.\\n\\nThis one isn't...</td>\n",
              "      <td>0</td>\n",
              "      <td>1</td>\n",
              "      <td>0</td>\n",
              "    </tr>\n",
              "    <tr>\n",
              "      <th>3</th>\n",
              "      <td>3</td>\n",
              "      <td>2021-04-01T14:09:24.000Z</td>\n",
              "      <td>There’s a whole lot of wishful thinking going ...</td>\n",
              "      <td>0</td>\n",
              "      <td>0</td>\n",
              "      <td>0</td>\n",
              "    </tr>\n",
              "    <tr>\n",
              "      <th>4</th>\n",
              "      <td>4</td>\n",
              "      <td>2021-04-01T14:09:24.000Z</td>\n",
              "      <td>: Thinking about not tweeting about bitcoin t...</td>\n",
              "      <td>0</td>\n",
              "      <td>0</td>\n",
              "      <td>0</td>\n",
              "    </tr>\n",
              "  </tbody>\n",
              "</table>\n",
              "</div>"
            ],
            "text/plain": [
              "   Unnamed: 0                created_at  ... sentiment_vader  sentiment_blob\n",
              "0           0  2021-04-01T14:09:24.000Z  ...               0               0\n",
              "1           1  2021-04-01T14:09:24.000Z  ...               1               0\n",
              "2           2  2021-04-01T14:09:24.000Z  ...               1               0\n",
              "3           3  2021-04-01T14:09:24.000Z  ...               0               0\n",
              "4           4  2021-04-01T14:09:24.000Z  ...               0               0\n",
              "\n",
              "[5 rows x 6 columns]"
            ]
          },
          "metadata": {
            "tags": []
          },
          "execution_count": 45
        }
      ]
    },
    {
      "cell_type": "code",
      "metadata": {
        "id": "i8qkwRxoQz8y"
      },
      "source": [
        "# remove -1 for Vader\n",
        "df_cleaned = df_cleaned[df_cleaned[\"sentiment_flair\"] >= 0].copy()\n",
        "df_cleaned.to_csv('BTC_sentiment.csv')"
      ],
      "execution_count": 47,
      "outputs": []
    },
    {
      "cell_type": "code",
      "metadata": {
        "id": "Qzec76_I4wgW"
      },
      "source": [
        "df_cleaned = pd.read_csv('BTC_sentiment.csv')\n",
        "df_cleaned['created_at'] = pd.to_datetime(df_cleaned['created_at']).dt.strftime('%Y-%m-%d')\n",
        "\n",
        "# df_cleaned['created_at'] = pd.to_datetime(df_cleaned['created_at']).dt.strftime('%Y-%m-%dT%H') \n",
        "# group by hour just if there would be a huge sample"
      ],
      "execution_count": 67,
      "outputs": []
    },
    {
      "cell_type": "code",
      "metadata": {
        "colab": {
          "base_uri": "https://localhost:8080/",
          "height": 206
        },
        "id": "EfZrODew6JCU",
        "outputId": "35ae77b5-97f0-4a53-8dd5-bd4b2aac8b1e"
      },
      "source": [
        "df_cleaned.head()"
      ],
      "execution_count": 68,
      "outputs": [
        {
          "output_type": "execute_result",
          "data": {
            "text/html": [
              "<div>\n",
              "<style scoped>\n",
              "    .dataframe tbody tr th:only-of-type {\n",
              "        vertical-align: middle;\n",
              "    }\n",
              "\n",
              "    .dataframe tbody tr th {\n",
              "        vertical-align: top;\n",
              "    }\n",
              "\n",
              "    .dataframe thead th {\n",
              "        text-align: right;\n",
              "    }\n",
              "</style>\n",
              "<table border=\"1\" class=\"dataframe\">\n",
              "  <thead>\n",
              "    <tr style=\"text-align: right;\">\n",
              "      <th></th>\n",
              "      <th>Unnamed: 0</th>\n",
              "      <th>Unnamed: 0.1</th>\n",
              "      <th>created_at</th>\n",
              "      <th>text</th>\n",
              "      <th>sentiment_flair</th>\n",
              "      <th>sentiment_vader</th>\n",
              "      <th>sentiment_blob</th>\n",
              "    </tr>\n",
              "  </thead>\n",
              "  <tbody>\n",
              "    <tr>\n",
              "      <th>0</th>\n",
              "      <td>0</td>\n",
              "      <td>0</td>\n",
              "      <td>2021-04-01</td>\n",
              "      <td>His account must‘ve been hacked! bitcoin ToTh...</td>\n",
              "      <td>0</td>\n",
              "      <td>0</td>\n",
              "      <td>0</td>\n",
              "    </tr>\n",
              "    <tr>\n",
              "      <th>1</th>\n",
              "      <td>1</td>\n",
              "      <td>1</td>\n",
              "      <td>2021-04-01</td>\n",
              "      <td>: New Airdrop: RaifeidoDAO (RDAO)\\nReward: 20...</td>\n",
              "      <td>1</td>\n",
              "      <td>1</td>\n",
              "      <td>0</td>\n",
              "    </tr>\n",
              "    <tr>\n",
              "      <th>2</th>\n",
              "      <td>2</td>\n",
              "      <td>2</td>\n",
              "      <td>2021-04-01</td>\n",
              "      <td>: 1 Bitcoin vs 1kg of Gold.\\n\\nThis one isn't...</td>\n",
              "      <td>0</td>\n",
              "      <td>1</td>\n",
              "      <td>0</td>\n",
              "    </tr>\n",
              "    <tr>\n",
              "      <th>3</th>\n",
              "      <td>3</td>\n",
              "      <td>3</td>\n",
              "      <td>2021-04-01</td>\n",
              "      <td>There’s a whole lot of wishful thinking going ...</td>\n",
              "      <td>0</td>\n",
              "      <td>0</td>\n",
              "      <td>0</td>\n",
              "    </tr>\n",
              "    <tr>\n",
              "      <th>4</th>\n",
              "      <td>4</td>\n",
              "      <td>4</td>\n",
              "      <td>2021-04-01</td>\n",
              "      <td>: Thinking about not tweeting about bitcoin t...</td>\n",
              "      <td>0</td>\n",
              "      <td>0</td>\n",
              "      <td>0</td>\n",
              "    </tr>\n",
              "  </tbody>\n",
              "</table>\n",
              "</div>"
            ],
            "text/plain": [
              "   Unnamed: 0  Unnamed: 0.1  ... sentiment_vader sentiment_blob\n",
              "0           0             0  ...               0              0\n",
              "1           1             1  ...               1              0\n",
              "2           2             2  ...               1              0\n",
              "3           3             3  ...               0              0\n",
              "4           4             4  ...               0              0\n",
              "\n",
              "[5 rows x 7 columns]"
            ]
          },
          "metadata": {
            "tags": []
          },
          "execution_count": 68
        }
      ]
    },
    {
      "cell_type": "markdown",
      "metadata": {
        "id": "cyYkBtgl18tC"
      },
      "source": [
        "## Stock comparison"
      ]
    },
    {
      "cell_type": "markdown",
      "metadata": {
        "id": "t8KCsv_w2E3w"
      },
      "source": [
        "### Get stock data"
      ]
    },
    {
      "cell_type": "code",
      "metadata": {
        "id": "kVV4eTccUBn_"
      },
      "source": [
        "import yfinance as yf\n",
        "from datetime import datetime\n",
        "\n",
        "tsla = yf.Ticker(\"btc-usd\")\n",
        "\n",
        "tsla_stock = tsla.history(\n",
        "    start = pd.to_datetime(df_cleaned['created_at']).dt.strftime('%Y-%m-%d').min(),\n",
        "    end= pd.to_datetime(df_cleaned['created_at']).dt.strftime('%Y-%m-%d').max(), \n",
        "    interval='60m'\n",
        ").reset_index()"
      ],
      "execution_count": 70,
      "outputs": []
    },
    {
      "cell_type": "markdown",
      "metadata": {
        "id": "-gnyxMf-3DFv"
      },
      "source": [
        "### Get daily sentiment"
      ]
    },
    {
      "cell_type": "code",
      "metadata": {
        "id": "e1FEPEpgV9KG"
      },
      "source": [
        "df_grouped = df_cleaned.copy()\n",
        "df_grouped['created_at'] = pd.to_datetime(df_grouped['created_at']).dt.strftime('%Y-%m-%d')\n",
        "\n",
        "daily_flair_sentiment = (df_grouped.groupby(by=\"created_at\").sum() / df_grouped.groupby(by=\"created_at\").count())['sentiment_flair']\n",
        "daily_vader_sentiment = (df_grouped.groupby(by=\"created_at\").sum() / df_grouped.groupby(by=\"created_at\").count())['sentiment_vader']\n",
        "daily_blob_sentiment = (df_grouped.groupby(by=\"created_at\").sum() / df_grouped.groupby(by=\"created_at\").count())['sentiment_blob']"
      ],
      "execution_count": 71,
      "outputs": []
    },
    {
      "cell_type": "code",
      "metadata": {
        "colab": {
          "base_uri": "https://localhost:8080/",
          "height": 542
        },
        "id": "49f6cR5pWgtx",
        "outputId": "dc81193d-2251-444d-fa0d-b1d78395e1eb"
      },
      "source": [
        "import plotly.offline as pyo\n",
        "import plotly.graph_objects as go\n",
        "from plotly.subplots import make_subplots\n",
        "\n",
        "fig = make_subplots(rows=2, cols=1, subplot_titles=(\"BTC\", \"% Positive Tweets\"))\n",
        "\n",
        "# stock prices\n",
        "fig.add_trace(go.Scatter(x=tsla_stock['Datetime'], y=tsla_stock['Close'], name='price'), row=1, col=1)\n",
        "\n",
        "# sentiment\n",
        "fig.add_trace(go.Scatter(x=daily_flair_sentiment.index, y=daily_flair_sentiment, name='Flair'), row=2, col=1)\n",
        "fig.add_trace(go.Scatter(x=daily_vader_sentiment.index, y=daily_vader_sentiment, name='Vader'), row=2, col=1)\n",
        "fig.add_trace(go.Scatter(x=daily_blob_sentiment.index, y=daily_blob_sentiment, name='TextBlob'), row=2, col=1)\n",
        "\n",
        "fig.show()"
      ],
      "execution_count": 75,
      "outputs": [
        {
          "output_type": "display_data",
          "data": {
            "text/html": [
              "<html>\n",
              "<head><meta charset=\"utf-8\" /></head>\n",
              "<body>\n",
              "    <div>\n",
              "            <script src=\"https://cdnjs.cloudflare.com/ajax/libs/mathjax/2.7.5/MathJax.js?config=TeX-AMS-MML_SVG\"></script><script type=\"text/javascript\">if (window.MathJax) {MathJax.Hub.Config({SVG: {font: \"STIX-Web\"}});}</script>\n",
              "                <script type=\"text/javascript\">window.PlotlyConfig = {MathJaxConfig: 'local'};</script>\n",
              "        <script src=\"https://cdn.plot.ly/plotly-latest.min.js\"></script>    \n",
              "            <div id=\"f4c0f0bc-b674-486a-ae3c-6f7156b3b13b\" class=\"plotly-graph-div\" style=\"height:525px; width:100%;\"></div>\n",
              "            <script type=\"text/javascript\">\n",
              "                \n",
              "                    window.PLOTLYENV=window.PLOTLYENV || {};\n",
              "                    \n",
              "                if (document.getElementById(\"f4c0f0bc-b674-486a-ae3c-6f7156b3b13b\")) {\n",
              "                    Plotly.newPlot(\n",
              "                        'f4c0f0bc-b674-486a-ae3c-6f7156b3b13b',\n",
              "                        [{\"name\": \"price\", \"type\": \"scatter\", \"x\": [\"2021-03-26T00:00:00+00:00\", \"2021-03-26T01:00:00+00:00\", \"2021-03-26T02:00:00+00:00\", \"2021-03-26T03:00:00+00:00\", \"2021-03-26T04:00:00+00:00\", \"2021-03-26T05:00:00+00:00\", \"2021-03-26T06:00:00+00:00\", \"2021-03-26T07:00:00+00:00\", \"2021-03-26T08:00:00+00:00\", \"2021-03-26T09:00:00+00:00\", \"2021-03-26T10:00:00+00:00\", \"2021-03-26T11:00:00+00:00\", \"2021-03-26T12:00:00+00:00\", \"2021-03-26T13:00:00+00:00\", \"2021-03-26T14:00:00+00:00\", \"2021-03-26T15:00:00+00:00\", \"2021-03-26T16:00:00+00:00\", \"2021-03-26T17:00:00+00:00\", \"2021-03-26T18:00:00+00:00\", \"2021-03-26T19:00:00+00:00\", \"2021-03-26T20:00:00+00:00\", \"2021-03-26T21:00:00+00:00\", \"2021-03-26T22:00:00+00:00\", \"2021-03-26T23:00:00+00:00\", \"2021-03-27T00:00:00+00:00\", \"2021-03-27T01:00:00+00:00\", \"2021-03-27T02:00:00+00:00\", \"2021-03-27T03:00:00+00:00\", \"2021-03-27T04:00:00+00:00\", \"2021-03-27T05:00:00+00:00\", \"2021-03-27T06:00:00+00:00\", \"2021-03-27T07:00:00+00:00\", \"2021-03-27T08:00:00+00:00\", \"2021-03-27T09:00:00+00:00\", \"2021-03-27T10:00:00+00:00\", \"2021-03-27T11:00:00+00:00\", \"2021-03-27T12:00:00+00:00\", \"2021-03-27T13:00:00+00:00\", \"2021-03-27T14:00:00+00:00\", \"2021-03-27T15:00:00+00:00\", \"2021-03-27T16:00:00+00:00\", \"2021-03-27T17:00:00+00:00\", \"2021-03-27T18:00:00+00:00\", \"2021-03-27T19:00:00+00:00\", \"2021-03-27T20:00:00+00:00\", \"2021-03-27T21:00:00+00:00\", \"2021-03-27T22:00:00+00:00\", \"2021-03-27T23:00:00+00:00\", \"2021-03-28T00:00:00+00:00\", \"2021-03-28T02:00:00+01:00\", \"2021-03-28T03:00:00+01:00\", \"2021-03-28T04:00:00+01:00\", \"2021-03-28T05:00:00+01:00\", \"2021-03-28T06:00:00+01:00\", \"2021-03-28T07:00:00+01:00\", \"2021-03-28T08:00:00+01:00\", \"2021-03-28T09:00:00+01:00\", \"2021-03-28T10:00:00+01:00\", \"2021-03-28T11:00:00+01:00\", \"2021-03-28T12:00:00+01:00\", \"2021-03-28T13:00:00+01:00\", \"2021-03-28T14:00:00+01:00\", \"2021-03-28T15:00:00+01:00\", \"2021-03-28T16:00:00+01:00\", \"2021-03-28T17:00:00+01:00\", \"2021-03-28T18:00:00+01:00\", \"2021-03-28T19:00:00+01:00\", \"2021-03-28T20:00:00+01:00\", \"2021-03-28T21:00:00+01:00\", \"2021-03-28T22:00:00+01:00\", \"2021-03-28T23:00:00+01:00\", \"2021-03-29T00:00:00+01:00\", \"2021-03-29T01:00:00+01:00\", \"2021-03-29T02:00:00+01:00\", \"2021-03-29T03:00:00+01:00\", \"2021-03-29T04:00:00+01:00\", \"2021-03-29T05:00:00+01:00\", \"2021-03-29T06:00:00+01:00\", \"2021-03-29T07:00:00+01:00\", \"2021-03-29T08:00:00+01:00\", \"2021-03-29T09:00:00+01:00\", \"2021-03-29T10:00:00+01:00\", \"2021-03-29T11:00:00+01:00\", \"2021-03-29T12:00:00+01:00\", \"2021-03-29T13:00:00+01:00\", \"2021-03-29T14:00:00+01:00\", \"2021-03-29T15:00:00+01:00\", \"2021-03-29T16:00:00+01:00\", \"2021-03-29T17:00:00+01:00\", \"2021-03-29T18:00:00+01:00\", \"2021-03-29T19:00:00+01:00\", \"2021-03-29T20:00:00+01:00\", \"2021-03-29T21:00:00+01:00\", \"2021-03-29T22:00:00+01:00\", \"2021-03-29T23:00:00+01:00\", \"2021-03-30T00:00:00+01:00\", \"2021-03-30T01:00:00+01:00\", \"2021-03-30T02:00:00+01:00\", \"2021-03-30T03:00:00+01:00\", \"2021-03-30T04:00:00+01:00\", \"2021-03-30T05:00:00+01:00\", \"2021-03-30T06:00:00+01:00\", \"2021-03-30T07:00:00+01:00\", \"2021-03-30T08:00:00+01:00\", \"2021-03-30T09:00:00+01:00\", \"2021-03-30T10:00:00+01:00\", \"2021-03-30T11:00:00+01:00\", \"2021-03-30T12:00:00+01:00\", \"2021-03-30T13:00:00+01:00\", \"2021-03-30T14:00:00+01:00\", \"2021-03-30T15:00:00+01:00\", \"2021-03-30T16:00:00+01:00\", \"2021-03-30T17:00:00+01:00\", \"2021-03-30T18:00:00+01:00\", \"2021-03-30T19:00:00+01:00\", \"2021-03-30T20:00:00+01:00\", \"2021-03-30T21:00:00+01:00\", \"2021-03-30T22:00:00+01:00\", \"2021-03-30T23:00:00+01:00\", \"2021-03-31T00:00:00+01:00\", \"2021-03-31T01:00:00+01:00\", \"2021-03-31T02:00:00+01:00\", \"2021-03-31T03:00:00+01:00\", \"2021-03-31T04:00:00+01:00\", \"2021-03-31T05:00:00+01:00\", \"2021-03-31T06:00:00+01:00\", \"2021-03-31T07:00:00+01:00\", \"2021-03-31T08:00:00+01:00\", \"2021-03-31T09:00:00+01:00\", \"2021-03-31T10:00:00+01:00\", \"2021-03-31T11:00:00+01:00\", \"2021-03-31T12:00:00+01:00\", \"2021-03-31T13:00:00+01:00\", \"2021-03-31T14:00:00+01:00\", \"2021-03-31T15:00:00+01:00\", \"2021-03-31T16:00:00+01:00\", \"2021-03-31T17:00:00+01:00\", \"2021-03-31T18:00:00+01:00\", \"2021-03-31T19:00:00+01:00\", \"2021-03-31T20:00:00+01:00\", \"2021-03-31T21:00:00+01:00\", \"2021-03-31T22:00:00+01:00\", \"2021-03-31T23:00:00+01:00\", \"2021-04-01T00:00:00+01:00\"], \"xaxis\": \"x\", \"y\": [52320.796875, 52464.35546875, 51955.609375, 52646.8046875, 52913.3828125, 52983.8671875, 52946.5546875, 53674.3984375, 53548.94140625, 53535.40625, 53568.1171875, 52896.0, 53105.015625, 53385.87109375, 53524.71484375, 53394.08203125, 53867.33203125, 54041.265625, 53852.4609375, 53986.3984375, 54220.88671875, 54692.44140625, 54638.42578125, 55118.88671875, 55001.6875, 54884.72265625, 54968.17578125, 54966.69921875, 55212.05078125, 55349.56640625, 55210.63671875, 55100.765625, 55099.32421875, 55098.08203125, 54911.83984375, 54687.98046875, 54406.4296875, 54857.7265625, 54831.046875, 55140.03125, 56204.484375, 56131.703125, 55941.1328125, 55915.6484375, 56021.87890625, 56546.66015625, 56469.5625, 55980.90625, 56177.04296875, 56219.10546875, 56034.20703125, 56224.765625, 56358.56640625, 56336.1796875, 56046.6171875, 56345.79296875, 56428.0546875, 56341.734375, 56346.12890625, 56054.5703125, 55831.29296875, 55983.4140625, 55998.8515625, 56474.03515625, 56445.99609375, 56193.20703125, 55588.46484375, 55446.39453125, 55154.4140625, 55414.515625, 55744.19921875, 55950.74609375, 55568.265625, 55344.484375, 55491.4453125, 55593.875, 55417.41015625, 55294.76953125, 55566.6171875, 56128.546875, 57031.5703125, 58066.39453125, 58034.9453125, 57883.078125, 58134.08203125, 58057.984375, 58158.1015625, 57833.734375, 57725.59765625, 57947.328125, 57831.74609375, 57728.59765625, 57302.26171875, 57647.6953125, 57809.94921875, 57750.19921875, 57669.76953125, 57532.62109375, 57431.9921875, 57331.59765625, 57821.5546875, 57749.0546875, 58229.83203125, 58253.08984375, 58057.46484375, 58953.953125, 58964.29296875, 59319.6171875, 59310.3671875, 59043.6640625, 59019.66015625, 58800.81640625, 58888.00390625, 58952.890625, 59027.38671875, 59134.67578125, 58870.0546875, 58975.22265625, 58899.9140625, 58917.69140625, 59152.80078125, 59163.73828125, 58978.1171875, 58734.984375, 58964.65625, 58941.48046875, 59898.37890625, 58514.58984375, 58199.0390625, 58195.94921875, 57918.5859375, 58276.76953125, 58373.60546875, 58815.125, 58903.23046875, 59513.62109375, 59186.00390625, 59426.69921875, 59526.4140625, 59139.7578125, 59163.44921875, 59077.96875, 58910.71484375, 58918.83203125], \"yaxis\": \"y\"}, {\"name\": \"Flair\", \"type\": \"scatter\", \"x\": [\"2021-03-26\", \"2021-03-27\", \"2021-03-28\", \"2021-03-29\", \"2021-03-30\", \"2021-03-31\", \"2021-04-01\"], \"xaxis\": \"x2\", \"y\": [0.3958333333333333, 0.5016835016835017, 0.4478114478114478, 0.40235690235690236, 0.44635193133047213, 0.4017094017094017, 0.40350877192982454], \"yaxis\": \"y2\"}, {\"name\": \"Vader\", \"type\": \"scatter\", \"x\": [\"2021-03-26\", \"2021-03-27\", \"2021-03-28\", \"2021-03-29\", \"2021-03-30\", \"2021-03-31\", \"2021-04-01\"], \"xaxis\": \"x2\", \"y\": [0.5277777777777778, 0.5841750841750841, 0.5454545454545454, 0.5572390572390572, 0.5278969957081545, 0.5811965811965812, 0.5764411027568922], \"yaxis\": \"y2\"}, {\"name\": \"TextBlob\", \"type\": \"scatter\", \"x\": [\"2021-03-26\", \"2021-03-27\", \"2021-03-28\", \"2021-03-29\", \"2021-03-30\", \"2021-03-31\", \"2021-04-01\"], \"xaxis\": \"x2\", \"y\": [0.2604166666666667, 0.3265993265993266, 0.2895622895622896, 0.29124579124579125, 0.25608011444921314, 0.3435897435897436, 0.3182957393483709], \"yaxis\": \"y2\"}],\n",
              "                        {\"annotations\": [{\"font\": {\"size\": 16}, \"showarrow\": false, \"text\": \"BTC\", \"x\": 0.5, \"xanchor\": \"center\", \"xref\": \"paper\", \"y\": 1.0, \"yanchor\": \"bottom\", \"yref\": \"paper\"}, {\"font\": {\"size\": 16}, \"showarrow\": false, \"text\": \"% Positive Tweets\", \"x\": 0.5, \"xanchor\": \"center\", \"xref\": \"paper\", \"y\": 0.375, \"yanchor\": \"bottom\", \"yref\": \"paper\"}], \"template\": {\"data\": {\"bar\": [{\"error_x\": {\"color\": \"#2a3f5f\"}, \"error_y\": {\"color\": \"#2a3f5f\"}, \"marker\": {\"line\": {\"color\": \"#E5ECF6\", \"width\": 0.5}}, \"type\": \"bar\"}], \"barpolar\": [{\"marker\": {\"line\": {\"color\": \"#E5ECF6\", \"width\": 0.5}}, \"type\": \"barpolar\"}], \"carpet\": [{\"aaxis\": {\"endlinecolor\": \"#2a3f5f\", \"gridcolor\": \"white\", \"linecolor\": \"white\", \"minorgridcolor\": \"white\", \"startlinecolor\": \"#2a3f5f\"}, \"baxis\": {\"endlinecolor\": \"#2a3f5f\", \"gridcolor\": \"white\", \"linecolor\": \"white\", \"minorgridcolor\": \"white\", \"startlinecolor\": \"#2a3f5f\"}, \"type\": \"carpet\"}], \"choropleth\": [{\"colorbar\": {\"outlinewidth\": 0, \"ticks\": \"\"}, \"type\": \"choropleth\"}], \"contour\": [{\"colorbar\": {\"outlinewidth\": 0, \"ticks\": \"\"}, \"colorscale\": [[0.0, \"#0d0887\"], [0.1111111111111111, \"#46039f\"], [0.2222222222222222, \"#7201a8\"], [0.3333333333333333, \"#9c179e\"], [0.4444444444444444, \"#bd3786\"], [0.5555555555555556, \"#d8576b\"], [0.6666666666666666, \"#ed7953\"], [0.7777777777777778, \"#fb9f3a\"], [0.8888888888888888, \"#fdca26\"], [1.0, \"#f0f921\"]], \"type\": \"contour\"}], \"contourcarpet\": [{\"colorbar\": {\"outlinewidth\": 0, \"ticks\": \"\"}, \"type\": \"contourcarpet\"}], \"heatmap\": [{\"colorbar\": {\"outlinewidth\": 0, \"ticks\": \"\"}, \"colorscale\": [[0.0, \"#0d0887\"], [0.1111111111111111, \"#46039f\"], [0.2222222222222222, \"#7201a8\"], [0.3333333333333333, \"#9c179e\"], [0.4444444444444444, \"#bd3786\"], [0.5555555555555556, \"#d8576b\"], [0.6666666666666666, \"#ed7953\"], [0.7777777777777778, \"#fb9f3a\"], [0.8888888888888888, \"#fdca26\"], [1.0, \"#f0f921\"]], \"type\": \"heatmap\"}], \"heatmapgl\": [{\"colorbar\": {\"outlinewidth\": 0, \"ticks\": \"\"}, \"colorscale\": [[0.0, \"#0d0887\"], [0.1111111111111111, \"#46039f\"], [0.2222222222222222, \"#7201a8\"], [0.3333333333333333, \"#9c179e\"], [0.4444444444444444, \"#bd3786\"], [0.5555555555555556, \"#d8576b\"], [0.6666666666666666, \"#ed7953\"], [0.7777777777777778, \"#fb9f3a\"], [0.8888888888888888, \"#fdca26\"], [1.0, \"#f0f921\"]], \"type\": \"heatmapgl\"}], \"histogram\": [{\"marker\": {\"colorbar\": {\"outlinewidth\": 0, \"ticks\": \"\"}}, \"type\": \"histogram\"}], \"histogram2d\": [{\"colorbar\": {\"outlinewidth\": 0, \"ticks\": \"\"}, \"colorscale\": [[0.0, \"#0d0887\"], [0.1111111111111111, \"#46039f\"], [0.2222222222222222, \"#7201a8\"], [0.3333333333333333, \"#9c179e\"], [0.4444444444444444, \"#bd3786\"], [0.5555555555555556, \"#d8576b\"], [0.6666666666666666, \"#ed7953\"], [0.7777777777777778, \"#fb9f3a\"], [0.8888888888888888, \"#fdca26\"], [1.0, \"#f0f921\"]], \"type\": \"histogram2d\"}], \"histogram2dcontour\": [{\"colorbar\": {\"outlinewidth\": 0, \"ticks\": \"\"}, \"colorscale\": [[0.0, \"#0d0887\"], [0.1111111111111111, \"#46039f\"], [0.2222222222222222, \"#7201a8\"], [0.3333333333333333, \"#9c179e\"], [0.4444444444444444, \"#bd3786\"], [0.5555555555555556, \"#d8576b\"], [0.6666666666666666, \"#ed7953\"], [0.7777777777777778, \"#fb9f3a\"], [0.8888888888888888, \"#fdca26\"], [1.0, \"#f0f921\"]], \"type\": \"histogram2dcontour\"}], \"mesh3d\": [{\"colorbar\": {\"outlinewidth\": 0, \"ticks\": \"\"}, \"type\": \"mesh3d\"}], \"parcoords\": [{\"line\": {\"colorbar\": {\"outlinewidth\": 0, \"ticks\": \"\"}}, \"type\": \"parcoords\"}], \"pie\": [{\"automargin\": true, \"type\": \"pie\"}], \"scatter\": [{\"marker\": {\"colorbar\": {\"outlinewidth\": 0, \"ticks\": \"\"}}, \"type\": \"scatter\"}], \"scatter3d\": [{\"line\": {\"colorbar\": {\"outlinewidth\": 0, \"ticks\": \"\"}}, \"marker\": {\"colorbar\": {\"outlinewidth\": 0, \"ticks\": \"\"}}, \"type\": \"scatter3d\"}], \"scattercarpet\": [{\"marker\": {\"colorbar\": {\"outlinewidth\": 0, \"ticks\": \"\"}}, \"type\": \"scattercarpet\"}], \"scattergeo\": [{\"marker\": {\"colorbar\": {\"outlinewidth\": 0, \"ticks\": \"\"}}, \"type\": \"scattergeo\"}], \"scattergl\": [{\"marker\": {\"colorbar\": {\"outlinewidth\": 0, \"ticks\": \"\"}}, \"type\": \"scattergl\"}], \"scattermapbox\": [{\"marker\": {\"colorbar\": {\"outlinewidth\": 0, \"ticks\": \"\"}}, \"type\": \"scattermapbox\"}], \"scatterpolar\": [{\"marker\": {\"colorbar\": {\"outlinewidth\": 0, \"ticks\": \"\"}}, \"type\": \"scatterpolar\"}], \"scatterpolargl\": [{\"marker\": {\"colorbar\": {\"outlinewidth\": 0, \"ticks\": \"\"}}, \"type\": \"scatterpolargl\"}], \"scatterternary\": [{\"marker\": {\"colorbar\": {\"outlinewidth\": 0, \"ticks\": \"\"}}, \"type\": \"scatterternary\"}], \"surface\": [{\"colorbar\": {\"outlinewidth\": 0, \"ticks\": \"\"}, \"colorscale\": [[0.0, \"#0d0887\"], [0.1111111111111111, \"#46039f\"], [0.2222222222222222, \"#7201a8\"], [0.3333333333333333, \"#9c179e\"], [0.4444444444444444, \"#bd3786\"], [0.5555555555555556, \"#d8576b\"], [0.6666666666666666, \"#ed7953\"], [0.7777777777777778, \"#fb9f3a\"], [0.8888888888888888, \"#fdca26\"], [1.0, \"#f0f921\"]], \"type\": \"surface\"}], \"table\": [{\"cells\": {\"fill\": {\"color\": \"#EBF0F8\"}, \"line\": {\"color\": \"white\"}}, \"header\": {\"fill\": {\"color\": \"#C8D4E3\"}, \"line\": {\"color\": \"white\"}}, \"type\": \"table\"}]}, \"layout\": {\"annotationdefaults\": {\"arrowcolor\": \"#2a3f5f\", \"arrowhead\": 0, \"arrowwidth\": 1}, \"coloraxis\": {\"colorbar\": {\"outlinewidth\": 0, \"ticks\": \"\"}}, \"colorscale\": {\"diverging\": [[0, \"#8e0152\"], [0.1, \"#c51b7d\"], [0.2, \"#de77ae\"], [0.3, \"#f1b6da\"], [0.4, \"#fde0ef\"], [0.5, \"#f7f7f7\"], [0.6, \"#e6f5d0\"], [0.7, \"#b8e186\"], [0.8, \"#7fbc41\"], [0.9, \"#4d9221\"], [1, \"#276419\"]], \"sequential\": [[0.0, \"#0d0887\"], [0.1111111111111111, \"#46039f\"], [0.2222222222222222, \"#7201a8\"], [0.3333333333333333, \"#9c179e\"], [0.4444444444444444, \"#bd3786\"], [0.5555555555555556, \"#d8576b\"], [0.6666666666666666, \"#ed7953\"], [0.7777777777777778, \"#fb9f3a\"], [0.8888888888888888, \"#fdca26\"], [1.0, \"#f0f921\"]], \"sequentialminus\": [[0.0, \"#0d0887\"], [0.1111111111111111, \"#46039f\"], [0.2222222222222222, \"#7201a8\"], [0.3333333333333333, \"#9c179e\"], [0.4444444444444444, \"#bd3786\"], [0.5555555555555556, \"#d8576b\"], [0.6666666666666666, \"#ed7953\"], [0.7777777777777778, \"#fb9f3a\"], [0.8888888888888888, \"#fdca26\"], [1.0, \"#f0f921\"]]}, \"colorway\": [\"#636efa\", \"#EF553B\", \"#00cc96\", \"#ab63fa\", \"#FFA15A\", \"#19d3f3\", \"#FF6692\", \"#B6E880\", \"#FF97FF\", \"#FECB52\"], \"font\": {\"color\": \"#2a3f5f\"}, \"geo\": {\"bgcolor\": \"white\", \"lakecolor\": \"white\", \"landcolor\": \"#E5ECF6\", \"showlakes\": true, \"showland\": true, \"subunitcolor\": \"white\"}, \"hoverlabel\": {\"align\": \"left\"}, \"hovermode\": \"closest\", \"mapbox\": {\"style\": \"light\"}, \"paper_bgcolor\": \"white\", \"plot_bgcolor\": \"#E5ECF6\", \"polar\": {\"angularaxis\": {\"gridcolor\": \"white\", \"linecolor\": \"white\", \"ticks\": \"\"}, \"bgcolor\": \"#E5ECF6\", \"radialaxis\": {\"gridcolor\": \"white\", \"linecolor\": \"white\", \"ticks\": \"\"}}, \"scene\": {\"xaxis\": {\"backgroundcolor\": \"#E5ECF6\", \"gridcolor\": \"white\", \"gridwidth\": 2, \"linecolor\": \"white\", \"showbackground\": true, \"ticks\": \"\", \"zerolinecolor\": \"white\"}, \"yaxis\": {\"backgroundcolor\": \"#E5ECF6\", \"gridcolor\": \"white\", \"gridwidth\": 2, \"linecolor\": \"white\", \"showbackground\": true, \"ticks\": \"\", \"zerolinecolor\": \"white\"}, \"zaxis\": {\"backgroundcolor\": \"#E5ECF6\", \"gridcolor\": \"white\", \"gridwidth\": 2, \"linecolor\": \"white\", \"showbackground\": true, \"ticks\": \"\", \"zerolinecolor\": \"white\"}}, \"shapedefaults\": {\"line\": {\"color\": \"#2a3f5f\"}}, \"ternary\": {\"aaxis\": {\"gridcolor\": \"white\", \"linecolor\": \"white\", \"ticks\": \"\"}, \"baxis\": {\"gridcolor\": \"white\", \"linecolor\": \"white\", \"ticks\": \"\"}, \"bgcolor\": \"#E5ECF6\", \"caxis\": {\"gridcolor\": \"white\", \"linecolor\": \"white\", \"ticks\": \"\"}}, \"title\": {\"x\": 0.05}, \"xaxis\": {\"automargin\": true, \"gridcolor\": \"white\", \"linecolor\": \"white\", \"ticks\": \"\", \"title\": {\"standoff\": 15}, \"zerolinecolor\": \"white\", \"zerolinewidth\": 2}, \"yaxis\": {\"automargin\": true, \"gridcolor\": \"white\", \"linecolor\": \"white\", \"ticks\": \"\", \"title\": {\"standoff\": 15}, \"zerolinecolor\": \"white\", \"zerolinewidth\": 2}}}, \"xaxis\": {\"anchor\": \"y\", \"domain\": [0.0, 1.0]}, \"xaxis2\": {\"anchor\": \"y2\", \"domain\": [0.0, 1.0]}, \"yaxis\": {\"anchor\": \"x\", \"domain\": [0.625, 1.0]}, \"yaxis2\": {\"anchor\": \"x2\", \"domain\": [0.0, 0.375]}},\n",
              "                        {\"responsive\": true}\n",
              "                    ).then(function(){\n",
              "                            \n",
              "var gd = document.getElementById('f4c0f0bc-b674-486a-ae3c-6f7156b3b13b');\n",
              "var x = new MutationObserver(function (mutations, observer) {{\n",
              "        var display = window.getComputedStyle(gd).display;\n",
              "        if (!display || display === 'none') {{\n",
              "            console.log([gd, 'removed!']);\n",
              "            Plotly.purge(gd);\n",
              "            observer.disconnect();\n",
              "        }}\n",
              "}});\n",
              "\n",
              "// Listen for the removal of the full notebook cells\n",
              "var notebookContainer = gd.closest('#notebook-container');\n",
              "if (notebookContainer) {{\n",
              "    x.observe(notebookContainer, {childList: true});\n",
              "}}\n",
              "\n",
              "// Listen for the clearing of the current output cell\n",
              "var outputEl = gd.closest('.output');\n",
              "if (outputEl) {{\n",
              "    x.observe(outputEl, {childList: true});\n",
              "}}\n",
              "\n",
              "                        })\n",
              "                };\n",
              "                \n",
              "            </script>\n",
              "        </div>\n",
              "</body>\n",
              "</html>"
            ]
          },
          "metadata": {
            "tags": []
          }
        }
      ]
    }
  ]
}