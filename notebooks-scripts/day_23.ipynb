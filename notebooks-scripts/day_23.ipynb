{
 "cells": [
  {
   "cell_type": "markdown",
   "metadata": {},
   "source": [
    "## Day23 - NLP"
   ]
  },
  {
   "cell_type": "markdown",
   "metadata": {},
   "source": [
    "**Stemming** is the process of producing morphological variants of a root/base word. For example [likes,liked,liking'] become all 'like'. It is extremely useful for reducing the number of distinct words and for retrieving more precise information. There are several algorithms, the most common ones are the **porter** and the **snowball**. The porter's stemmer is based on the idea that the suffixes in English are made up of a combination of simpler suffixes. Then, the snowball stemmer is considered the evolution of the porter's one, because it can be also used for non-english words!"
   ]
  },
  {
   "cell_type": "code",
   "execution_count": 49,
   "metadata": {},
   "outputs": [],
   "source": [
    "from nltk import word_tokenize, PorterStemmer, SnowballStemmer, WordNetLemmatizer\n",
    "\n",
    "porter = PorterStemmer()\n",
    "snowball = SnowballStemmer(language=\"english\")\n",
    "snowball_ita = SnowballStemmer(language=\"italian\")"
   ]
  },
  {
   "cell_type": "code",
   "execution_count": 50,
   "metadata": {},
   "outputs": [
    {
     "name": "stdout",
     "output_type": "stream",
     "text": [
      "['nasa', 'complet', 'major', 'test', 'on', 'rocket', 'that', 'could', 'take', 'human', 'back', 'to', 'the', 'moon']\n",
      "['nasa', 'complet', 'major', 'test', 'on', 'rocket', 'that', 'could', 'take', 'human', 'back', 'to', 'the', 'moon']\n"
     ]
    }
   ],
   "source": [
    "# first results on Google news\n",
    "text = \"NASA completes major test on rocket that could take humans back to the moon\"\n",
    "text_ita = \"Ceo non bastava: Elon Musk si autoproclama «Technoking» di Tesla\"\n",
    "\n",
    "tokens = word_tokenize(text)\n",
    "tokens_ita = word_tokenize(text_ita)\n",
    "porter_tokens = [porter.stem(t) for t in tokens]\n",
    "snowball_tokens = [snowball.stem(t) for t in tokens]\n",
    "\n",
    "print(porter_tokens)\n",
    "print(snowball_tokens)"
   ]
  },
  {
   "cell_type": "code",
   "execution_count": 51,
   "metadata": {},
   "outputs": [
    {
     "name": "stdout",
     "output_type": "stream",
     "text": [
      "['ceo', 'non', 'bastava', ':', 'elon', 'musk', 'si', 'autoproclama', '«', 'technok', '»', 'di', 'tesla']\n",
      "['ceo', 'non', 'bast', ':', 'elon', 'musk', 'si', 'autoproclam', '«', 'technoking', '»', 'di', 'tesl']\n"
     ]
    }
   ],
   "source": [
    "snowball_tokens_ita = [snowball_ita.stem(t) for t in tokens_ita]\n",
    "porter_tokens_ita = [porter.stem(t) for t in tokens_ita]\n",
    "\n",
    "print(porter_tokens_ita)\n",
    "print(snowball_tokens_ita)"
   ]
  },
  {
   "cell_type": "markdown",
   "metadata": {},
   "source": [
    "**Lemmatization** is the process of grouping together different inflected words. It is similar to stemming, but here we obtain meaningful words. It is more precise, but in contrary, the computation is slower."
   ]
  },
  {
   "cell_type": "code",
   "execution_count": 54,
   "metadata": {},
   "outputs": [
    {
     "name": "stdout",
     "output_type": "stream",
     "text": [
      "['NASA', 'completes', 'major', 'test', 'on', 'rocket', 'that', 'could', 'take', 'human', 'back', 'to', 'the', 'moon']\n"
     ]
    }
   ],
   "source": [
    "lemmatokenizer = WordNetLemmatizer()\n",
    "lt_tokens = [lemmatokenizer.lemmatize(t) for t in tokens]\n",
    "\n",
    "print(lt_tokens)"
   ]
  }
 ],
 "metadata": {
  "kernelspec": {
   "display_name": "Python 3",
   "language": "python",
   "name": "python3"
  },
  "language_info": {
   "codemirror_mode": {
    "name": "ipython",
    "version": 3
   },
   "file_extension": ".py",
   "mimetype": "text/x-python",
   "name": "python",
   "nbconvert_exporter": "python",
   "pygments_lexer": "ipython3",
   "version": "3.8.5"
  }
 },
 "nbformat": 4,
 "nbformat_minor": 4
}
