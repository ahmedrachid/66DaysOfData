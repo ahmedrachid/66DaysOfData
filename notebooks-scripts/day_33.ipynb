{
 "cells": [
  {
   "cell_type": "markdown",
   "metadata": {},
   "source": [
    "## Day32 - NLP | Word2Vec + Sentiment Analysis"
   ]
  },
  {
   "cell_type": "code",
   "execution_count": 99,
   "metadata": {},
   "outputs": [],
   "source": [
    "import pandas as pd\n",
    "import numpy as np\n",
    "from collections import Counter\n",
    "\n",
    "from nltk import word_tokenize, SnowballStemmer\n",
    "from nltk.corpus import stopwords\n",
    "import string\n",
    "import re\n",
    "\n",
    "from gensim.models.phrases import Phrases, Phraser\n",
    "from gensim.models import Word2Vec\n",
    "from gensim.test.utils import get_tmpfile\n",
    "from gensim.models import KeyedVectors\n",
    "\n",
    "import multiprocessing\n",
    "\n",
    "from time import time\n",
    "\n",
    "from sklearn.cluster import KMeans\n",
    "\n",
    "from vaderSentiment.vaderSentiment import SentimentIntensityAnalyzer"
   ]
  },
  {
   "cell_type": "markdown",
   "metadata": {},
   "source": [
    "### Data"
   ]
  },
  {
   "cell_type": "code",
   "execution_count": 2,
   "metadata": {},
   "outputs": [],
   "source": [
    "# Dataset : https://www.kaggle.com/kazanova/sentiment140\n",
    "# col_0 = target \n",
    "# col_5 = text\n",
    "df = pd.read_csv('../dataset/twitter_SA.csv', encoding = 'ISO-8859-1', header=None)\n",
    "df = df[[0,5]]\n",
    "df.columns = ['target','text']\n",
    "\n",
    "# 0 = negative\n",
    "# 4 = positive -> 1\n",
    "df['target'] = df.target.apply(lambda x : 1 if x == 4 else x)"
   ]
  },
  {
   "cell_type": "code",
   "execution_count": 128,
   "metadata": {},
   "outputs": [
    {
     "data": {
      "text/plain": [
       "0.665410625"
      ]
     },
     "execution_count": 128,
     "metadata": {},
     "output_type": "execute_result"
    }
   ],
   "source": [
    "analyser = SentimentIntensityAnalyzer()\n",
    "df['predicted'] = df.text.apply(lambda x : 0 if analyser.polarity_scores(x)['compound'] < 0 else 1)\n",
    "len(df[df['target'] == df['predicted']])/len(df)"
   ]
  },
  {
   "cell_type": "code",
   "execution_count": 147,
   "metadata": {},
   "outputs": [
    {
     "name": "stdout",
     "output_type": "stream",
     "text": [
      "Sentence = Today was a bad day\tScore = {'neg': 0.467, 'neu': 0.533, 'pos': 0.0, 'compound': -0.5423}\n",
      "\n",
      "Sentence = TODAY WAS A BAD DAY!!!\tScore = {'neg': 0.522, 'neu': 0.478, 'pos': 0.0, 'compound': -0.6571}\n",
      "\n",
      "Sentence = I hate this weather\tScore = {'neg': 0.552, 'neu': 0.448, 'pos': 0.0, 'compound': -0.5719}\n",
      "\n",
      "Sentence = You're disturbing me\tScore = {'neg': 0.623, 'neu': 0.377, 'pos': 0.0, 'compound': -0.5106}\n",
      "\n",
      "\n",
      "\n",
      "Sentence = Today was a great day\tScore = {'neg': 0.0, 'neu': 0.494, 'pos': 0.506, 'compound': 0.6249}\n",
      "\n",
      "Sentence = TODAY WAS A GREAT DAY!!\tScore = {'neg': 0.0, 'neu': 0.461, 'pos': 0.539, 'compound': 0.6892}\n",
      "\n",
      "Sentence = I think yuo' re so smart\tScore = {'neg': 0.0, 'neu': 0.589, 'pos': 0.411, 'compound': 0.541}\n",
      "\n",
      "Sentence = You made an cool project\tScore = {'neg': 0.0, 'neu': 0.635, 'pos': 0.365, 'compound': 0.3182}\n",
      "\n"
     ]
    }
   ],
   "source": [
    "analyser_test = SentimentIntensityAnalyzer()\n",
    "\n",
    "bad_sentences = ['Today was a bad day', 'TODAY WAS A BAD DAY!!!',\n",
    "                  'I hate this weather', 'You\\'re disturbing me']\n",
    "\n",
    "good_sentences = ['Today was a great day', 'TODAY WAS A GREAT DAY!!',\n",
    "                  'I think yuo\\' re so smart', 'You made an cool project']\n",
    "\n",
    "for sentence in bad_sentences:\n",
    "    print(f\"Sentence = {sentence}\", end=\"\\t\")\n",
    "    print(f\"Score = {analyser_test.polarity_scores(sentence)}\\n\")\n",
    "\n",
    "print(\"\\n\")\n",
    "for sentence in good_sentences:\n",
    "    print(f\"Sentence = {sentence}\", end=\"\\t\")\n",
    "    print(f\"Score = {analyser_test.polarity_scores(sentence)}\\n\")"
   ]
  },
  {
   "cell_type": "code",
   "execution_count": null,
   "metadata": {},
   "outputs": [],
   "source": []
  }
 ],
 "metadata": {
  "kernelspec": {
   "display_name": "Python 3",
   "language": "python",
   "name": "python3"
  },
  "language_info": {
   "codemirror_mode": {
    "name": "ipython",
    "version": 3
   },
   "file_extension": ".py",
   "mimetype": "text/x-python",
   "name": "python",
   "nbconvert_exporter": "python",
   "pygments_lexer": "ipython3",
   "version": "3.8.5"
  }
 },
 "nbformat": 4,
 "nbformat_minor": 4
}
