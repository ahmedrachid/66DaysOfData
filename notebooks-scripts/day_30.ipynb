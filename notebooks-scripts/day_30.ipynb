{
 "cells": [
  {
   "cell_type": "markdown",
   "metadata": {},
   "source": [
    "## Day30 - Web scraping with BS4\n",
    "\n",
    "<img src=\"../images/day30.jpg\" />"
   ]
  },
  {
   "cell_type": "code",
   "execution_count": 66,
   "metadata": {},
   "outputs": [],
   "source": [
    "import requests\n",
    "from bs4 import BeautifulSoup\n",
    "from urllib.request import urlopen, Request\n",
    "\n",
    "import pandas as pd\n",
    "import numpy as np\n",
    "\n",
    "from nltk import word_tokenize, SnowballStemmer\n",
    "from nltk.corpus import stopwords\n",
    "import string\n",
    "import re"
   ]
  },
  {
   "cell_type": "code",
   "execution_count": 91,
   "metadata": {},
   "outputs": [],
   "source": [
    "ticker = 'TSLA'\n",
    "\n",
    "# html requests + bs4\n",
    "URL = 'https://finviz.com/quote.ashx?t=' + ticker\n",
    "req = Request(url=url,headers={'user-agent': 'my-app/0.0.1'}) \n",
    "resp = urlopen(req)    \n",
    "html = BeautifulSoup(resp, features=\"lxml\")\n",
    "\n",
    "# get news-table\n",
    "news_table = html.find(id='news-table')\n",
    "# get list of all <tr> elements (aka rows)\n",
    "table = news_table.findAll('tr')\n",
    "\n",
    "titles = []\n",
    "links = []\n",
    "sources = []\n",
    "\n",
    "stemmer = SnowballStemmer(language=\"english\")\n",
    "\n",
    "for row in table:\n",
    "    # date = row.td.text.strip() \n",
    "    \n",
    "    sources.append(row.span.text.strip())\n",
    "    links.append(row.a['href'])\n",
    "    \n",
    "    # text preprocessing on the fly \n",
    "    t = row.a.text.strip().lower()       # lowercase\n",
    "    t = re.sub(r\"[0-9]\",\"\",t)            # remove digits\n",
    "    t = re.sub(r\"[^\\w\\s]\",\"\",t)          # remove punctuation\n",
    "    \n",
    "    tokens = word_tokenize(t)\n",
    "    stemmed_tokens = [stemmer.stem(t) for tk in tokens if tk not in stopwords.words('english')]\n",
    "    titles.append(' '.join(stemmed_tokens))"
   ]
  },
  {
   "cell_type": "code",
   "execution_count": 93,
   "metadata": {},
   "outputs": [
    {
     "data": {
      "text/html": [
       "<div>\n",
       "<style scoped>\n",
       "    .dataframe tbody tr th:only-of-type {\n",
       "        vertical-align: middle;\n",
       "    }\n",
       "\n",
       "    .dataframe tbody tr th {\n",
       "        vertical-align: top;\n",
       "    }\n",
       "\n",
       "    .dataframe thead th {\n",
       "        text-align: right;\n",
       "    }\n",
       "</style>\n",
       "<table border=\"1\" class=\"dataframe\">\n",
       "  <thead>\n",
       "    <tr style=\"text-align: right;\">\n",
       "      <th></th>\n",
       "      <th>source</th>\n",
       "      <th>title</th>\n",
       "      <th>link</th>\n",
       "    </tr>\n",
       "  </thead>\n",
       "  <tbody>\n",
       "    <tr>\n",
       "      <th>0</th>\n",
       "      <td>Motley Fool</td>\n",
       "      <td>why tesla stock fell sharply on friday why tes...</td>\n",
       "      <td>https://www.fool.com/investing/2021/03/26/why-...</td>\n",
       "    </tr>\n",
       "    <tr>\n",
       "      <th>1</th>\n",
       "      <td>Investor's Business Daily</td>\n",
       "      <td>is nio stock a buy chip shortage ev competitio...</td>\n",
       "      <td>https://www.investors.com/news/nio-stock-buy-n...</td>\n",
       "    </tr>\n",
       "    <tr>\n",
       "      <th>2</th>\n",
       "      <td>LA Times</td>\n",
       "      <td>column feds rule that musk and tesla are no fr...</td>\n",
       "      <td>https://finance.yahoo.com/news/column-feds-rul...</td>\n",
       "    </tr>\n",
       "    <tr>\n",
       "      <th>3</th>\n",
       "      <td>Yahoo Finance Video</td>\n",
       "      <td>how the pandemic has led to a boom in used car...</td>\n",
       "      <td>https://finance.yahoo.com/video/pandemic-led-b...</td>\n",
       "    </tr>\n",
       "    <tr>\n",
       "      <th>4</th>\n",
       "      <td>Investor's Business Daily</td>\n",
       "      <td>dow tech stocks rally as treasury yields jump ...</td>\n",
       "      <td>https://www.investors.com/market-trend/stock-m...</td>\n",
       "    </tr>\n",
       "  </tbody>\n",
       "</table>\n",
       "</div>"
      ],
      "text/plain": [
       "                      source  \\\n",
       "0                Motley Fool   \n",
       "1  Investor's Business Daily   \n",
       "2                   LA Times   \n",
       "3        Yahoo Finance Video   \n",
       "4  Investor's Business Daily   \n",
       "\n",
       "                                               title  \\\n",
       "0  why tesla stock fell sharply on friday why tes...   \n",
       "1  is nio stock a buy chip shortage ev competitio...   \n",
       "2  column feds rule that musk and tesla are no fr...   \n",
       "3  how the pandemic has led to a boom in used car...   \n",
       "4  dow tech stocks rally as treasury yields jump ...   \n",
       "\n",
       "                                                link  \n",
       "0  https://www.fool.com/investing/2021/03/26/why-...  \n",
       "1  https://www.investors.com/news/nio-stock-buy-n...  \n",
       "2  https://finance.yahoo.com/news/column-feds-rul...  \n",
       "3  https://finance.yahoo.com/video/pandemic-led-b...  \n",
       "4  https://www.investors.com/market-trend/stock-m...  "
      ]
     },
     "execution_count": 93,
     "metadata": {},
     "output_type": "execute_result"
    }
   ],
   "source": [
    "df = pd.DataFrame({'source' : sources, 'title' : titles, 'link' : links})\n",
    "df.head()"
   ]
  },
  {
   "cell_type": "code",
   "execution_count": null,
   "metadata": {},
   "outputs": [],
   "source": []
  }
 ],
 "metadata": {
  "kernelspec": {
   "display_name": "Python 3",
   "language": "python",
   "name": "python3"
  },
  "language_info": {
   "codemirror_mode": {
    "name": "ipython",
    "version": 3
   },
   "file_extension": ".py",
   "mimetype": "text/x-python",
   "name": "python",
   "nbconvert_exporter": "python",
   "pygments_lexer": "ipython3",
   "version": "3.8.5"
  }
 },
 "nbformat": 4,
 "nbformat_minor": 4
}
